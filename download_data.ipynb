{
 "cells": [
  {
   "cell_type": "code",
   "execution_count": 3,
   "id": "bfe75247",
   "metadata": {},
   "outputs": [],
   "source": [
    "import requests\n",
    "\n",
    "from requests_cache import CachedSession\n",
    "from datetime import timedelta\n",
    "\n",
    "import os \n",
    "import zipfile\n",
    "import io\n",
    "from tqdm.notebook import tqdm\n",
    "\n",
    "session = CachedSession('ris_cache', expire_after=-1)\n",
    "\n",
    "\n"
   ]
  },
  {
   "cell_type": "markdown",
   "id": "441a9b23",
   "metadata": {},
   "source": [
    "# Download Data"
   ]
  },
  {
   "cell_type": "code",
   "execution_count": null,
   "id": "29674662",
   "metadata": {},
   "outputs": [],
   "source": [
    "# List Legislation Documents\n",
    "base_url = \"https://testphase.rechtsinformationen.bund.de\"\n",
    "res = session.get(\n",
    "    \"https://testphase.rechtsinformationen.bund.de/v1/legislation\",\n",
    "    params={\n",
    "      \"searchTerm\":\"\",\n",
    "      \"size\": 100,\n",
    "      \"pageIndex\": 0,\n",
    "    }\n",
    ")"
   ]
  },
  {
   "cell_type": "code",
   "execution_count": null,
   "id": "208bc2a0",
   "metadata": {},
   "outputs": [],
   "source": [
    "total_items = res.json().get(\"totalItems\")\n",
    "print(\"Total items:\", total_items)\n",
    "pages = total_items // 100 + (1 if total_items % 100 > 0 else 0)\n",
    "\n",
    "\n",
    "for page in range(pages):\n",
    "    res = session.get(\n",
    "        \"https://testphase.rechtsinformationen.bund.de/v1/legislation\",\n",
    "        params={\n",
    "            \"searchTerm\": \"\",\n",
    "            \"size\": 100,\n",
    "            \"pageIndex\": page\n",
    "        }\n",
    "    )\n",
    "    print(f\"Page {page + 1}/{pages} - Total Items: {res.json().get('totalItems')}\")\n",
    "    # extract url of each item \n",
    "    urls = []\n",
    "    for element in res.json().get(\"member\"):\n",
    "        urls.append(base_url+element.get(\"item\").get(\"workExample\").get(\"@id\"))\n",
    "\n",
    "    # extract zip files from each url\n",
    "    for url in tqdm(urls):\n",
    "        response = session.get(url)\n",
    "        zip_url = base_url+response.json().get(\"workExample\").get(\"encoding\")[2][\"contentUrl\"]\n",
    "\n",
    "        # check if the url contains a zip file\n",
    "        if \"zip\" not in zip_url:\n",
    "            print(f\"Skipping {url} as it does not contain a zip file.\")\n",
    "        else:\n",
    "            zip = session.get(zip_url)\n",
    "            path = url.replace(base_url, \"\")[1:]\n",
    "            os.makedirs(url.replace(base_url, \"\")[1:], exist_ok=True)\n",
    "            z = zipfile.ZipFile(io.BytesIO(zip.content))\n",
    "            z.extractall(path)"
   ]
  },
  {
   "cell_type": "markdown",
   "id": "c03f4879",
   "metadata": {},
   "source": [
    "# Init Database"
   ]
  },
  {
   "cell_type": "code",
   "execution_count": null,
   "id": "f28914ac",
   "metadata": {},
   "outputs": [],
   "source": [
    "from typing import List\n",
    "from typing import Optional\n",
    "from sqlalchemy import ForeignKey\n",
    "from sqlalchemy import Column, Integer, String, DateTime, Text\n",
    "from sqlalchemy.orm import DeclarativeBase\n",
    "from sqlalchemy.orm import Mapped\n",
    "from sqlalchemy.orm import mapped_column\n",
    "from sqlalchemy.orm import relationship\n",
    "from pgvector.sqlalchemy import Vector"
   ]
  },
  {
   "cell_type": "code",
   "execution_count": null,
   "id": "7291f514",
   "metadata": {},
   "outputs": [],
   "source": [
    "from db_schema import Document, Article, Paragraph, Base"
   ]
  },
  {
   "cell_type": "code",
   "execution_count": 9,
   "id": "493af2c8",
   "metadata": {},
   "outputs": [],
   "source": [
    "db_params = {\n",
    "    'host': '127.0.0.1',\n",
    "    'database': os.environ.get(\"DB_NAME\", \"default_df\"),\n",
    "    'username': os.environ.get(\"DB_USER\", \"default_user\"),\n",
    "    'password': os.environ.get(\"DB_PASSWORD\", \"default_password\"),  # Use environment variable or default\n",
    "    'port': '5432',\n",
    "    'drivername': 'postgresql+psycopg2',\n",
    "    \"query\":{}\n",
    "}\n"
   ]
  },
  {
   "cell_type": "code",
   "execution_count": 10,
   "id": "f5244add",
   "metadata": {},
   "outputs": [],
   "source": [
    "from sqlalchemy import create_engine\n",
    "from sqlalchemy.orm import sessionmaker\n",
    "from sqlalchemy.engine.url import URL\n",
    "from sqlalchemy import text\n",
    "\n",
    "def db_connect():\n",
    "    \"\"\"\n",
    "    Performs database connection using database settings from settings.py.\n",
    "    Returns sqlalchemy engine instance\n",
    "    \"\"\"\n",
    "    return create_engine(URL(**db_params))\n",
    "def create_deals_table(engine):\n",
    "    \"\"\"\"\"\"\n",
    "    DeclarativeBase.metadata.create_all(engine)\n",
    "def db_session():\n",
    "    engine = db_connect()\n",
    "    Session = sessionmaker(bind=engine)\n",
    "    session = Session()\n",
    "    return session\n",
    "session = db_session()\n",
    "session.execute(text('CREATE EXTENSION IF NOT EXISTS vector'))\n",
    "session.commit()"
   ]
  },
  {
   "cell_type": "code",
   "execution_count": null,
   "id": "4fe9180c",
   "metadata": {},
   "outputs": [],
   "source": [
    "\n",
    "session.execute(\n",
    "    text(\"DROP TABLE IF EXISTS paragraph;\" )\n",
    ")\n",
    "session.execute(\n",
    "    text(\"DROP TABLE IF EXISTS article;\" )\n",
    ")\n",
    "session.execute(\n",
    "    text(\"DROP TABLE IF EXISTS document;\" )\n",
    ")\n",
    "session.commit()"
   ]
  },
  {
   "cell_type": "code",
   "execution_count": null,
   "id": "39cb2f47",
   "metadata": {},
   "outputs": [],
   "source": [
    "def create_tables(engine):\n",
    "    \"\"\"\"\"\"\n",
    "    Base.metadata.create_all(engine)\n",
    "\n",
    "engine = db_connect()\n",
    "create_tables(engine)"
   ]
  },
  {
   "cell_type": "markdown",
   "id": "7618cf25",
   "metadata": {},
   "source": [
    "# Insert Data"
   ]
  },
  {
   "cell_type": "code",
   "execution_count": 4,
   "id": "ae533c3d",
   "metadata": {},
   "outputs": [
    {
     "ename": "ModuleNotFoundError",
     "evalue": "No module named 'lxml'",
     "output_type": "error",
     "traceback": [
      "\u001b[31m---------------------------------------------------------------------------\u001b[39m",
      "\u001b[31mModuleNotFoundError\u001b[39m                       Traceback (most recent call last)",
      "\u001b[36mCell\u001b[39m\u001b[36m \u001b[39m\u001b[32mIn[4]\u001b[39m\u001b[32m, line 1\u001b[39m\n\u001b[32m----> \u001b[39m\u001b[32m1\u001b[39m \u001b[38;5;28;01mfrom\u001b[39;00m\u001b[38;5;250m \u001b[39m\u001b[34;01mlxml\u001b[39;00m\u001b[38;5;250m \u001b[39m\u001b[38;5;28;01mimport\u001b[39;00m etree\n",
      "\u001b[31mModuleNotFoundError\u001b[39m: No module named 'lxml'"
     ]
    }
   ],
   "source": [
    "from lxml import etree\n"
   ]
  },
  {
   "cell_type": "code",
   "execution_count": null,
   "id": "a9e38ed8",
   "metadata": {},
   "outputs": [],
   "source": [
    "def parse_article(element, document_uri=None):\n",
    "    guid=element.get(\"GUID\")\n",
    "    num = element.xpath(\".//akn:num\", namespaces=element.nsmap)[0].text\n",
    "    heading =  element.xpath(\".//akn:heading\", namespaces=element.nsmap)[0].text\n",
    "    paragraphs = []\n",
    "    for child in element.xpath(\".//akn:paragraph\", namespaces=element.nsmap):\n",
    "        paragraphs.append(\n",
    "            Paragraph(content= \"\\n\".join([e.text if e.text else \"\" for e in child.xpath(\".//akn:p\", namespaces=child.nsmap)]),\n",
    "             number= child.xpath(\".//akn:num\", namespaces=child.nsmap)[0].text,\n",
    "             guid= child.get(\"GUID\", None),\n",
    "             article_guid=guid)\n",
    "        )\n",
    "    return Article(guid=guid, number=num, heading=heading, paragraphs=paragraphs, document_uri=document_uri)\n",
    "\n",
    "# parse_article(root.getchildren()[0].getchildren()[3].getchildren()[2])"
   ]
  },
  {
   "cell_type": "code",
   "execution_count": null,
   "id": "21f828f1",
   "metadata": {},
   "outputs": [],
   "source": [
    "def parse_document(root, session):\n",
    "    uri = root.xpath(\"//akn:FRBRExpression//akn:FRBRthis\", namespaces=root.nsmap)[0].get(\"value\")\n",
    "    date = root.xpath(\"//akn:date\", namespaces=root.nsmap)[0].get(\"date\")\n",
    "    author = root.xpath(\"//akn:FRBRauthor\", namespaces=root.nsmap)[0].get(\"href\")\n",
    "    long_title = root.xpath(\"//akn:longTitle//akn:docTitle\", namespaces=root.nsmap)[0].text\n",
    "    short_title = root.xpath(\"//akn:longTitle//akn:shortTitle\", namespaces=root.nsmap)[0].text\n",
    "    abbreviation = root.xpath(\"//akn:longTitle//akn:inline\", namespaces=root.nsmap)[0].text\n",
    "    preamble_el = root.xpath(\"//akn:preamble//akn:p\", namespaces=root.nsmap)\n",
    "    if preamble_el and preamble_el[0].text:\n",
    "        preamble = preamble_el[0].text\n",
    "    else:\n",
    "        preamble = \"\"\n",
    "    articles = root.xpath(\"//akn:body//akn:article\", namespaces=root.nsmap)\n",
    "\n",
    "    parsed_articles = []\n",
    "    doc = Document(\n",
    "        uri=uri,\n",
    "        date=date,\n",
    "        author=author,\n",
    "        title=long_title,\n",
    "        short_title=short_title,\n",
    "        abbreviation=abbreviation,\n",
    "        preamble=preamble\n",
    "    )\n",
    "    for article in articles:\n",
    "        parsed_articles.append(parse_article(article, document_uri=uri))\n",
    "    \n",
    "    # doc.embedding = embedder(str(doc))\n",
    "    # Overwrite if the document already exists\n",
    "    existing_doc = session.query(Document).filter_by(uri=uri).first()\n",
    "    if existing_doc:\n",
    "        session.delete(existing_doc)\n",
    "        session.commit()\n",
    "    session.add_all([doc] + parsed_articles)\n",
    "    session.commit()\n",
    "    return doc\n",
    "    \n"
   ]
  },
  {
   "cell_type": "code",
   "execution_count": null,
   "id": "ef98cf7a",
   "metadata": {},
   "outputs": [],
   "source": [
    "stop = False\n",
    "\n",
    "for root, dirs, files in os.walk(\"/home/benni/Desktop/RIS RAG/v1\"):\n",
    "    for file in files:\n",
    "        if \"regelungstext-verkuendung\" in file:\n",
    "            xml_path = os.path.join(root, file)\n",
    "            tree = etree.parse(xml_path)\n",
    "            xml_root = tree.getroot()\n",
    "            print(xml_path)\n",
    "            parse_document(xml_root , session)\n",
    "                \n"
   ]
  },
  {
   "cell_type": "markdown",
   "id": "f322cd96",
   "metadata": {},
   "source": [
    "# Calculate Embeddings"
   ]
  },
  {
   "cell_type": "code",
   "execution_count": null,
   "id": "a1d88a7b",
   "metadata": {},
   "outputs": [],
   "source": [
    "documents = session.query(Document).all()\n",
    "titles = [doc.title for doc in documents]\n",
    "embeddings = embedder(titles)"
   ]
  },
  {
   "cell_type": "code",
   "execution_count": null,
   "id": "48c9fefc",
   "metadata": {},
   "outputs": [],
   "source": [
    "for i,doc in enumerate(documents):\n",
    "    doc.embedding = embeddings[i]\n",
    "session.commit()"
   ]
  },
  {
   "cell_type": "code",
   "execution_count": null,
   "id": "81b9b8c5",
   "metadata": {},
   "outputs": [],
   "source": [
    "articles = session.query(Article).all()\n",
    "repr = [str(a) for a in articles]\n",
    "embeddings = embedder(repr)"
   ]
  },
  {
   "cell_type": "code",
   "execution_count": null,
   "id": "fb6c140d",
   "metadata": {},
   "outputs": [],
   "source": [
    "for i, art in enumerate(articles):\n",
    "    art.embedding = embeddings[i]\n",
    "session.commit()"
   ]
  },
  {
   "cell_type": "markdown",
   "id": "7e2ac137",
   "metadata": {},
   "source": [
    "# Model Tests"
   ]
  },
  {
   "cell_type": "code",
   "execution_count": null,
   "id": "b4df9d13",
   "metadata": {},
   "outputs": [],
   "source": [
    "# Load tokens securely from .env file\n",
    "import os\n",
    "from dotenv import load_dotenv\n",
    "\n",
    "# Load environment variables from .env file\n",
    "load_dotenv()\n",
    "\n",
    "# Access your tokens\n",
    "api_token = os.getenv('IONOS_TOKEN')\n",
    "\n",
    "# Example usage\n",
    "if api_token:\n",
    "    print(\"API token loaded securely.\")\n",
    "else:\n",
    "    print(\"API token not found. Please set it in your .env file.\")"
   ]
  },
  {
   "cell_type": "code",
   "execution_count": null,
   "id": "7faf0297",
   "metadata": {},
   "outputs": [],
   "source": [
    "import dspy\n",
    "\n",
    "llm = dspy.LM(\"openai/mistralai/Mixtral-8x7B-Instruct-v0.1\", base_url=\"https://openai.inference.de-txl.ionos.com/v1\"\n",
    "        , api_key=api_token,)\n",
    "llm_llama = dspy.LM(\"openai/meta-llama/Llama-3.3-70B-Instruct\", base_url=\"https://openai.inference.de-txl.ionos.com/v1\"\n",
    "        , api_key=api_token,)\n",
    "embedder = dspy.Embedder(\"openai/BAAI/bge-m3\", api_base=\"https://openai.inference.de-txl.ionos.com/v1\", api_key=api_token,)"
   ]
  },
  {
   "cell_type": "code",
   "execution_count": null,
   "id": "4cc5016e",
   "metadata": {},
   "outputs": [],
   "source": [
    "import requests\n",
    "\n",
    "# Set your API key and endpoint\n",
    "endpoint = \"https://openai.inference.de-txl.ionos.com/v1/models\"\n",
    "\n",
    "# Make the request to list models\n",
    "response = requests.get(endpoint, headers={\"Authorization\": f\"Bearer {api_token}\"})\n",
    "\n",
    "# Check if the request was successful\n",
    "if response.status_code == 200:\n",
    "    models = response.json()[\"data\"]\n",
    "    print(\"Available Models:\")\n",
    "    for model in models:\n",
    "        print(model[\"id\"])\n",
    "    # Filter for embeddings models\n",
    "    embeddings_models = [model for model in models if \"embedding\" in model[\"id\"]]\n",
    "    print(\"Embeddings Models:\")\n",
    "    for model in embeddings_models:\n",
    "        print(model[\"id\"])\n",
    "else:\n",
    "    print(f\"Failed to retrieve models: {response.status_code} - {response.text}\")"
   ]
  }
 ],
 "metadata": {
  "kernelspec": {
   "display_name": ".venv",
   "language": "python",
   "name": "python3"
  },
  "language_info": {
   "codemirror_mode": {
    "name": "ipython",
    "version": 3
   },
   "file_extension": ".py",
   "mimetype": "text/x-python",
   "name": "python",
   "nbconvert_exporter": "python",
   "pygments_lexer": "ipython3",
   "version": "3.12.3"
  }
 },
 "nbformat": 4,
 "nbformat_minor": 5
}
